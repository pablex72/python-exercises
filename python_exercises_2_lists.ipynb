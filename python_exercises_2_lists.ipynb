{
  "nbformat": 4,
  "nbformat_minor": 0,
  "metadata": {
    "colab": {
      "provenance": [],
      "authorship_tag": "ABX9TyMFHXwpUV1nlDl3QTJZZRrC",
      "include_colab_link": true
    },
    "kernelspec": {
      "name": "python3",
      "display_name": "Python 3"
    },
    "language_info": {
      "name": "python"
    }
  },
  "cells": [
    {
      "cell_type": "markdown",
      "metadata": {
        "id": "view-in-github",
        "colab_type": "text"
      },
      "source": [
        "<a href=\"https://colab.research.google.com/github/pablex72/python-exercises/blob/main/python_exercises_2_lists.ipynb\" target=\"_parent\"><img src=\"https://colab.research.google.com/assets/colab-badge.svg\" alt=\"Open In Colab\"/></a>"
      ]
    },
    {
      "cell_type": "markdown",
      "source": [
        "Exercise 3: Print characters from a string that are present at an even index number"
      ],
      "metadata": {
        "id": "qwZKWNYzLq_v"
      }
    },
    {
      "cell_type": "code",
      "execution_count": null,
      "metadata": {
        "colab": {
          "base_uri": "https://localhost:8080/"
        },
        "id": "E2GkRQYQLXrM",
        "outputId": "38280893-c071-4946-f038-c99d2a70052a"
      },
      "outputs": [
        {
          "output_type": "stream",
          "name": "stdout",
          "text": [
            "Enter word camara\n",
            "Original String: camara\n",
            "Printing only even index chars\n",
            "index[ 0 ] c\n",
            "index[ 2 ] m\n",
            "index[ 4 ] r\n"
          ]
        }
      ],
      "source": [
        "#Write a program to accept a string from the user and display characters that are present at an even index number.\n",
        "#For example, str = \"pynative\" so you should display ‘p’, ‘n’, ‘t’, ‘v’.\n",
        "\n",
        "# accept input string from a user\n",
        "word = input('Enter word ')\n",
        "print(\"Original String:\", word)\n",
        "\n",
        "# get the length of a string\n",
        "size = len(word)\n",
        "size\n",
        "\n",
        "# iterate a each character of a string\n",
        "# start: 0 to start with first character\n",
        "# stop: size-1 because index starts with 0\n",
        "# step: 2 to get the characters present at even index like 0, 2, 4\n",
        "print(\"Printing only even index chars\")\n",
        "for i in range(0, size - 1, 2):\n",
        "    print(\"index[\", i, \"]\", word[i])"
      ]
    },
    {
      "cell_type": "markdown",
      "source": [
        "using slicing"
      ],
      "metadata": {
        "id": "8iolzw5EUvYW"
      }
    },
    {
      "cell_type": "code",
      "source": [
        "# accept input string from a user\n",
        "word = input('Enter word ')\n",
        "print(\"Original String:\", word)\n",
        "\n",
        "# using list slicing\n",
        "# convert string to list\n",
        "# pick only even index chars\n",
        "x = list(word)\n",
        "for i in x[0::2]:\n",
        "    print(i)"
      ],
      "metadata": {
        "colab": {
          "base_uri": "https://localhost:8080/"
        },
        "id": "UsWJz3gBUxX-",
        "outputId": "a1ea6e53-0b2c-4e12-c328-95e0c441412f"
      },
      "execution_count": null,
      "outputs": [
        {
          "output_type": "stream",
          "name": "stdout",
          "text": [
            "Enter word camara\n",
            "Original String: camara\n",
            "c\n",
            "m\n",
            "r\n"
          ]
        }
      ]
    },
    {
      "cell_type": "markdown",
      "source": [
        "Exercise 4: Remove first n characters from a string"
      ],
      "metadata": {
        "id": "78A7TFXQVRW1"
      }
    },
    {
      "cell_type": "code",
      "source": [
        "# remove_chars(\"pynative\", 2) so output must be native. Here we need to remove first two characters from a string.\n",
        "def remove_chars(sliceString, limit):\n",
        "\n",
        "  x = list(sliceString)\n",
        "  y = x[0:limit:1]\n",
        "  return y\n",
        "\n",
        "remove_chars(\"pynative\",4)"
      ],
      "metadata": {
        "colab": {
          "base_uri": "https://localhost:8080/"
        },
        "id": "Z64NSaC-VX23",
        "outputId": "bfef810f-d1fc-4068-ba12-9abece0b64d6"
      },
      "execution_count": null,
      "outputs": [
        {
          "output_type": "execute_result",
          "data": {
            "text/plain": [
              "['p', 'y']"
            ]
          },
          "metadata": {},
          "execution_count": 12
        }
      ]
    },
    {
      "cell_type": "markdown",
      "source": [
        "Exercise 5: Check if the first and last number of a list is the same"
      ],
      "metadata": {
        "id": "bT7f66bQdrEC"
      }
    },
    {
      "cell_type": "code",
      "source": [
        "#Given list: [10, 20, 30, 40, 10]\n",
        "#result is True\n",
        "#numbers_y = [75, 65, 35, 75, 30]\n",
        "#result is False\n",
        "\n",
        "def same(list1):\n",
        "\n",
        "  last = list1[-1]\n",
        "  first = list1[0]\n",
        "  if(last == first):\n",
        "    y = True\n",
        "  else:\n",
        "    y = False\n",
        "  \n",
        "  return y\n",
        "\n",
        "print(same([10, 20, 30, 40, 10]))\n",
        "print(same([75, 65, 35, 75, 30]))"
      ],
      "metadata": {
        "id": "O7URlQw1dncm",
        "colab": {
          "base_uri": "https://localhost:8080/"
        },
        "outputId": "2c750788-381e-415d-8790-cd96bef57091"
      },
      "execution_count": 15,
      "outputs": [
        {
          "output_type": "stream",
          "name": "stdout",
          "text": [
            "True\n",
            "False\n"
          ]
        }
      ]
    },
    {
      "cell_type": "markdown",
      "source": [
        "Exercise 6: Display numbers divisible by 5 from a list"
      ],
      "metadata": {
        "id": "N0Yd7Tiph1dn"
      }
    },
    {
      "cell_type": "code",
      "source": [
        "# Given list is  [10, 20, 33, 46, 55]\n",
        "# Divisible by 5\n",
        "# 10\n",
        "# 20\n",
        "# 55\n",
        "\n",
        "list1 = [10, 20, 33, 46, 55]\n",
        "\n",
        "for i in list1:\n",
        "  if(i%5 == 0):\n",
        "    \n",
        "    print(i)\n"
      ],
      "metadata": {
        "colab": {
          "base_uri": "https://localhost:8080/"
        },
        "id": "ZR53DsKnh1Hk",
        "outputId": "897b0d31-0fbf-4253-eac7-c265682f183a"
      },
      "execution_count": 22,
      "outputs": [
        {
          "output_type": "stream",
          "name": "stdout",
          "text": [
            "10\n",
            "20\n",
            "55\n"
          ]
        }
      ]
    },
    {
      "cell_type": "markdown",
      "source": [
        "Exercise 7: Return the count of a given substring from a string"
      ],
      "metadata": {
        "id": "xboBuyeEkW1K"
      }
    },
    {
      "cell_type": "code",
      "source": [
        "#Write a program to find how many times substring “Emma” appears in the given string.\n",
        "#Emma appeared 2 times\n",
        "str_x = \"Emma is good developer. Emma is a writer\"\n",
        "\n",
        "for subs in str_x:\n",
        "  print(subs)\n",
        "\n",
        "str_x = \"Emma is good developer. Emma is a writer\"\n",
        "# use count method of a str class\n",
        "cnt = str_x.count(\"Emma\")\n",
        "print(cnt)\n"
      ],
      "metadata": {
        "colab": {
          "base_uri": "https://localhost:8080/"
        },
        "id": "p89NFl_QkX3Y",
        "outputId": "0851db2c-2c46-49c1-de06-7ffef33141d6"
      },
      "execution_count": 24,
      "outputs": [
        {
          "output_type": "stream",
          "name": "stdout",
          "text": [
            "E\n",
            "m\n",
            "m\n",
            "a\n",
            " \n",
            "i\n",
            "s\n",
            " \n",
            "g\n",
            "o\n",
            "o\n",
            "d\n",
            " \n",
            "d\n",
            "e\n",
            "v\n",
            "e\n",
            "l\n",
            "o\n",
            "p\n",
            "e\n",
            "r\n",
            ".\n",
            " \n",
            "E\n",
            "m\n",
            "m\n",
            "a\n",
            " \n",
            "i\n",
            "s\n",
            " \n",
            "a\n",
            " \n",
            "w\n",
            "r\n",
            "i\n",
            "t\n",
            "e\n",
            "r\n",
            "2\n"
          ]
        }
      ]
    }
  ]
}